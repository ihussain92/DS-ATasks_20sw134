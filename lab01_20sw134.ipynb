{
 "cells": [
  {
   "cell_type": "code",
   "execution_count": 1,
   "metadata": {},
   "outputs": [
    {
     "name": "stdout",
     "output_type": "stream",
     "text": [
      "hello world! ...1 2 3 testing\n"
     ]
    }
   ],
   "source": [
    "var = \"hello world! ...1 2 3 testing\"\n",
    "print(var)\n"
   ]
  },
  {
   "cell_type": "code",
   "execution_count": 18,
   "metadata": {},
   "outputs": [
    {
     "name": "stdout",
     "output_type": "stream",
     "text": [
      "[1, 2, 3, 4, 5]\n",
      "[1, 2, 3, 4, 56] caution: change detected \n",
      "[1, 2, 3, 4, 5] list is stable : }\n"
     ]
    }
   ],
   "source": [
    "list = [1, 2 ,3 ,4, 5]\n",
    "print (list)\n",
    "\n",
    "list[4] = 56\n",
    "print (list,\"caution: change detected \")\n",
    "\n",
    "for i in range(len(list)):\n",
    "    if list[i] == 56:\n",
    "        list[i] = 5\n",
    "    \n",
    "print(list, \"list is stable : }\")\n"
   ]
  },
  {
   "cell_type": "code",
   "execution_count": 22,
   "metadata": {},
   "outputs": [
    {
     "name": "stdout",
     "output_type": "stream",
     "text": [
      "(1, 3, 4, 5, 6) its a tuple, and its unchangebale\n"
     ]
    }
   ],
   "source": [
    "tuple= (1,3,4,5,6)\n",
    "print(tuple, \"its a tuple, and its unchangebale\")\n",
    "\n"
   ]
  },
  {
   "cell_type": "code",
   "execution_count": null,
   "metadata": {},
   "outputs": [],
   "source": [
    "print (\"lets create a tuple and print by user input\")\n",
    "s = input(\"size of tuple??\")\n",
    "for i in s:\n",
    "    tuple(i) = input(\"enter a tuple\")\n",
    "    break\n",
    "print(tuple)\n",
    "    "
   ]
  },
  {
   "cell_type": "code",
   "execution_count": 1,
   "metadata": {},
   "outputs": [
    {
     "name": "stdout",
     "output_type": "stream",
     "text": [
      "{1: 'Toyotas', 2: 'hondas', 3: 'suzuki'}\n"
     ]
    }
   ],
   "source": [
    "cardict = {\n",
    "    1: \"Toyotas\",\n",
    "    2: \"hondas\",\n",
    "    3: \"suzuki\"\n",
    "}\n",
    "\n",
    "print(cardict)\n"
   ]
  },
  {
   "cell_type": "code",
   "execution_count": 6,
   "metadata": {},
   "outputs": [
    {
     "name": "stdout",
     "output_type": "stream",
     "text": [
      "15\n",
      "a,b,c\n",
      "[1, 4, 5, 0, 10, 'a,b,c']\n"
     ]
    }
   ],
   "source": [
    "var = 15\n",
    "print(var)\n",
    "\n",
    "\n",
    "var = \"a,b,c\"\n",
    "\n",
    "print(var)\n",
    "\n",
    "\n",
    "list = [1 , 4, 5, 0, 10]\n",
    "list.insert(5,var)\n",
    "print(list)"
   ]
  }
 ],
 "metadata": {
  "kernelspec": {
   "display_name": "Python 3",
   "language": "python",
   "name": "python3"
  },
  "language_info": {
   "codemirror_mode": {
    "name": "ipython",
    "version": 3
   },
   "file_extension": ".py",
   "mimetype": "text/x-python",
   "name": "python",
   "nbconvert_exporter": "python",
   "pygments_lexer": "ipython3",
   "version": "3.11.4"
  },
  "orig_nbformat": 4
 },
 "nbformat": 4,
 "nbformat_minor": 2
}
